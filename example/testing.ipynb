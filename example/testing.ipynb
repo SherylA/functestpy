{
 "metadata": {
  "language_info": {
   "codemirror_mode": {
    "name": "ipython",
    "version": 3
   },
   "file_extension": ".py",
   "mimetype": "text/x-python",
   "name": "python",
   "nbconvert_exporter": "python",
   "pygments_lexer": "ipython3",
   "version": "3.8.5"
  },
  "orig_nbformat": 4,
  "kernelspec": {
   "name": "python3",
   "display_name": "Python 3.8.5 64-bit ('base': conda)"
  },
  "interpreter": {
   "hash": "078e819792ca5cdae3762db6ba1f302036aec0f1d18acf7453e0ff85755b57b2"
  }
 },
 "nbformat": 4,
 "nbformat_minor": 2,
 "cells": [
  {
   "cell_type": "code",
   "execution_count": 1,
   "metadata": {},
   "outputs": [],
   "source": [
    "import sys, os"
   ]
  },
  {
   "cell_type": "code",
   "execution_count": 2,
   "metadata": {},
   "outputs": [],
   "source": [
    "sys.path.append(r'../src')"
   ]
  },
  {
   "cell_type": "code",
   "execution_count": 3,
   "metadata": {},
   "outputs": [],
   "source": [
    "import exercise as ex\n",
    "import student as st"
   ]
  },
  {
   "cell_type": "code",
   "execution_count": 4,
   "metadata": {},
   "outputs": [],
   "source": [
    "Grupo = 1\n",
    "id = '123456789'\n",
    "\n",
    "student = st.Student(group=Grupo,id=id)\n",
    "exercise_01 = ex.ExerciseFuncSimple(0,student=student)"
   ]
  },
  {
   "cell_type": "code",
   "execution_count": 5,
   "metadata": {},
   "outputs": [
    {
     "output_type": "stream",
     "name": "stdout",
     "text": [
      "Loading the files located in https://raw.githubusercontent.com/SherylA/PythonFCE/master/Datos/Datos_Ejercicio0/grupo_1.txt...\n"
     ]
    }
   ],
   "source": [
    "Y,X = exercise_01.load_data()\n",
    "\n",
    "def fun(Y,X):\n",
    "    print('aja')"
   ]
  },
  {
   "cell_type": "code",
   "execution_count": 6,
   "metadata": {},
   "outputs": [],
   "source": [
    "def fun(y,x):\n",
    "    try:\n",
    "        n = y.shape[0]\n",
    "        A = x.sum()\n",
    "        B = y.sum()\n",
    "        C = (x*y).sum()\n",
    "        D = (x*x).sum()\n",
    "        m = (n*C - A*B)/(n*D - A**2)\n",
    "        b = (B - m*A)/n\n",
    "        return m,b\n",
    "    except Exception as e:\n",
    "        print(\"Recuerde que y y x tiene que ser arreglos\")\n",
    "        print(e)"
   ]
  },
  {
   "cell_type": "code",
   "execution_count": 7,
   "metadata": {},
   "outputs": [
    {
     "output_type": "display_data",
     "data": {
      "text/plain": "<IPython.core.display.HTML object>",
      "text/html": "\n<!DOCTYPE html>\n<html>\n<head>\n<style>\ntable {\n  font-family: arial, sans-serif;\n  border-collapse: collapse;\n  width: 100%;\n}\n\ntd, th {\n  border: 1px solid #dddddd;\n  text-align: left;\n  padding: 8px;\n}\n\n</style>\n</head>\n<body>\n\n<h2>RESULTADOS</h2>\n\n<table>\n  <tr>\n    <th>Prueba</th>\n    <th>Resultado</th>\n  </tr>\n\n    <tr>\n    <td>Crear una función</td>\n    <td style=\"background-color:#03AC13;\">Success </td>\n    </tr>\n\n    <tr>\n    <td>La pendiente es correcta, m = 0.13990557 +/- 0.001</td>\n    <td style=\"background-color:#03AC13;\">Success </td>\n    </tr>\n\n    <tr>\n    <td>El intercepto con el eje y es correcto, b= 19.01972647 +/- 0.1</td>\n    <td style=\"background-color:#03AC13;\">Success </td>\n    </tr>\n\n</table>\n</body>\n</html>\n"
     },
     "metadata": {}
    }
   ],
   "source": [
    "exercise_01.check_exercise_func(fun)\n",
    "exercise_01.display_result()"
   ]
  },
  {
   "cell_type": "code",
   "execution_count": null,
   "metadata": {},
   "outputs": [],
   "source": []
  }
 ]
}