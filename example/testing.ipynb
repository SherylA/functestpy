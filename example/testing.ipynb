{
 "metadata": {
  "language_info": {
   "codemirror_mode": {
    "name": "ipython",
    "version": 3
   },
   "file_extension": ".py",
   "mimetype": "text/x-python",
   "name": "python",
   "nbconvert_exporter": "python",
   "pygments_lexer": "ipython3",
   "version": "3.8.5"
  },
  "orig_nbformat": 4,
  "kernelspec": {
   "name": "python3",
   "display_name": "Python 3.8.5 64-bit ('base': conda)"
  },
  "interpreter": {
   "hash": "078e819792ca5cdae3762db6ba1f302036aec0f1d18acf7453e0ff85755b57b2"
  }
 },
 "nbformat": 4,
 "nbformat_minor": 2,
 "cells": [
  {
   "cell_type": "code",
   "execution_count": 10,
   "metadata": {},
   "outputs": [],
   "source": [
    "import sys, os"
   ]
  },
  {
   "cell_type": "code",
   "execution_count": 11,
   "metadata": {},
   "outputs": [
    {
     "output_type": "execute_result",
     "data": {
      "text/plain": [
       "['displayhtml.py',\n",
       " 'exercise.py',\n",
       " 'raw_data.py',\n",
       " 'student.py',\n",
       " '__init__.py',\n",
       " '__pycache__']"
      ]
     },
     "metadata": {},
     "execution_count": 11
    }
   ],
   "source": [
    "os.listdir('../testpyColab')"
   ]
  },
  {
   "cell_type": "code",
   "execution_count": 12,
   "metadata": {},
   "outputs": [],
   "source": [
    "sys.path.append(r'../')"
   ]
  },
  {
   "cell_type": "code",
   "execution_count": 13,
   "metadata": {},
   "outputs": [],
   "source": [
    "import testpyColab.exercise as ex\n",
    "import testpyColab.student as st"
   ]
  },
  {
   "cell_type": "code",
   "execution_count": 14,
   "metadata": {},
   "outputs": [
    {
     "output_type": "display_data",
     "data": {
      "text/plain": "<IPython.core.display.HTML object>",
      "text/html": "<h2> ¡Bienvenido estudiante 123456789! El grupo ingresado ha sido 1 </h2>"
     },
     "metadata": {}
    },
    {
     "output_type": "stream",
     "name": "stdout",
     "text": [
      "Loading the files located in https://raw.githubusercontent.com/SherylA/PythonFCE/master/Datos/Datos_Ejercicio0/grupo_1.txt...\n"
     ]
    }
   ],
   "source": [
    "Grupo = 1\n",
    "id = '123456789'\n",
    "\n",
    "student = st.Student(group=Grupo,id=id)\n",
    "exercise_01 = ex.ExerciseFuncSimple(0,student=student)"
   ]
  },
  {
   "cell_type": "code",
   "execution_count": 15,
   "metadata": {},
   "outputs": [],
   "source": [
    "Y,X = exercise_01.load_data()\n",
    "\n",
    "def fun(Y,X):\n",
    "    print('aja')"
   ]
  },
  {
   "cell_type": "code",
   "execution_count": 16,
   "metadata": {},
   "outputs": [],
   "source": [
    "from numpy import polyfit \n",
    "from sklearn.linear_model import LinearRegression"
   ]
  },
  {
   "cell_type": "code",
   "execution_count": 19,
   "metadata": {},
   "outputs": [],
   "source": [
    "def fun(y,x):\n",
    "    try:\n",
    "        n = y.shape[0]\n",
    "        A = x.sum()\n",
    "        B = y.sum()\n",
    "        C = (x*y).sum()\n",
    "        D = (x*x).sum()\n",
    "        m = (n*C - A*B)/(n*D - A**2)\n",
    "        b = (B - m*A)/n\n",
    "        return m,b\n",
    "    except Exception as e:\n",
    "        print(\"Recuerde que y y x tiene que ser arreglos\")\n",
    "        print(e)\n",
    "\n",
    "def fun2(y,x):\n",
    "    return np.polyfit(x, y, 1)\n",
    "\n",
    "def fun3(y,x):\n",
    "    regresion_lineal = LinearRegression() # creamos una instancia de LinearRegression\n",
    "    # instruimos a la regresión lineal que aprenda de los datos (x,y)\n",
    "    regresion_lineal.fit(x.reshape(-1,1), y) \n",
    "    # vemos los parámetros que ha estimado la regresión lineal\n",
    "    print('w = ' + str(regresion_lineal.coef_) + ', b = ' + str(regresion_lineal.intercept_))"
   ]
  },
  {
   "cell_type": "code",
   "execution_count": 20,
   "metadata": {},
   "outputs": [
    {
     "output_type": "display_data",
     "data": {
      "text/plain": "<IPython.core.display.HTML object>",
      "text/html": "\n<!DOCTYPE html>\n<html>\n<head>\n<style>\ntable {\n  font-family: arial, sans-serif;\n  border-collapse: collapse;\n  width: 100%;\n}\n\ntd, th {\n  border: 1px solid #dddddd;\n  text-align: left;\n  padding: 8px;\n}\n\n</style>\n</head>\n<body>\n\n<h2>RESULTADOS</h2>\n\n<table>\n  <tr>\n    <th>Prueba</th>\n    <th>Resultado</th>\n  </tr>\n\n    <tr>\n    <td>Crear una función. No usar sklearn.linear_model.LinearRegression()</td>\n    <td style=\"background-color:#ff6666;\">Failed </td>\n    </tr>\n\n    <tr>\n    <td>La pendiente es correcta, m = 0.13990557 +/- 0.001</td>\n    <td style=\"background-color:#ED820E;\">Skipped </td>\n    </tr>\n\n    <tr>\n    <td>El intercepto con el eje y es correcto, b= 19.01972647 +/- 0.1</td>\n    <td style=\"background-color:#ED820E;\">Skipped </td>\n    </tr>\n\n</table>\n</body>\n</html>\n"
     },
     "metadata": {}
    }
   ],
   "source": [
    "exercise_01.display_check_exercise(fun3)"
   ]
  },
  {
   "cell_type": "code",
   "execution_count": 27,
   "metadata": {},
   "outputs": [],
   "source": [
    "import ast\n",
    "import inspect"
   ]
  },
  {
   "cell_type": "code",
   "execution_count": 87,
   "metadata": {},
   "outputs": [],
   "source": [
    "def example():\n",
    "    a = 1\n",
    "    b = np.array([a])\n",
    "    r = {}\n",
    "    return r"
   ]
  },
  {
   "cell_type": "code",
   "execution_count": 88,
   "metadata": {},
   "outputs": [],
   "source": [
    "call_obj = [c for c in ast.walk(ast.parse(inspect.getsource(example))) if isinstance(c, ast.Return)]\n",
    "                      "
   ]
  },
  {
   "cell_type": "code",
   "execution_count": 97,
   "metadata": {},
   "outputs": [
    {
     "output_type": "execute_result",
     "data": {
      "text/plain": [
       "['__class__',\n",
       " '__delattr__',\n",
       " '__dict__',\n",
       " '__dir__',\n",
       " '__doc__',\n",
       " '__eq__',\n",
       " '__format__',\n",
       " '__ge__',\n",
       " '__getattribute__',\n",
       " '__gt__',\n",
       " '__hash__',\n",
       " '__init__',\n",
       " '__init_subclass__',\n",
       " '__le__',\n",
       " '__lt__',\n",
       " '__module__',\n",
       " '__ne__',\n",
       " '__new__',\n",
       " '__reduce__',\n",
       " '__reduce_ex__',\n",
       " '__repr__',\n",
       " '__setattr__',\n",
       " '__sizeof__',\n",
       " '__str__',\n",
       " '__subclasshook__',\n",
       " '__weakref__',\n",
       " '_attributes',\n",
       " '_fields',\n",
       " 'col_offset',\n",
       " 'end_col_offset',\n",
       " 'end_lineno',\n",
       " 'lineno',\n",
       " 'value']"
      ]
     },
     "metadata": {},
     "execution_count": 97
    }
   ],
   "source": [
    "dir(call_obj[0])"
   ]
  },
  {
   "cell_type": "code",
   "execution_count": 99,
   "metadata": {},
   "outputs": [
    {
     "output_type": "execute_result",
     "data": {
      "text/plain": [
       "('lineno', 'col_offset', 'end_lineno', 'end_col_offset')"
      ]
     },
     "metadata": {},
     "execution_count": 99
    }
   ],
   "source": [
    "call_obj[0]._attributes"
   ]
  },
  {
   "cell_type": "code",
   "execution_count": 100,
   "metadata": {},
   "outputs": [
    {
     "output_type": "execute_result",
     "data": {
      "text/plain": [
       "['0']"
      ]
     },
     "metadata": {},
     "execution_count": 100
    }
   ],
   "source": [
    "'0'.split('.')"
   ]
  },
  {
   "cell_type": "code",
   "execution_count": null,
   "metadata": {},
   "outputs": [],
   "source": []
  }
 ]
}